{
  "nbformat": 4,
  "nbformat_minor": 0,
  "metadata": {
    "colab": {
      "provenance": [],
      "collapsed_sections": [
        "b4ztUSSjIQcu",
        "tWTyvXguZDB_",
        "qGgqr3CRKBHD",
        "pmtv13ttZTOV",
        "oOHCG0fJmd7J",
        "I5CgxLUELYJA",
        "U1C6fQsdLpsA",
        "2QbHljAAL2bH",
        "KSHqSOyMMOGf"
      ],
      "authorship_tag": "ABX9TyOQbJ3YSN06pDpRhEBwBkFj",
      "include_colab_link": true
    },
    "kernelspec": {
      "name": "ir",
      "display_name": "R"
    },
    "language_info": {
      "name": "R"
    }
  },
  "cells": [
    {
      "cell_type": "markdown",
      "metadata": {
        "id": "view-in-github",
        "colab_type": "text"
      },
      "source": [
        "<a href=\"https://colab.research.google.com/github/smfs18/projeto-estatistica/blob/BernardoSiqueiraBatista-patch-1/TratamentoDeDados.ipynb\" target=\"_parent\"><img src=\"https://colab.research.google.com/assets/colab-badge.svg\" alt=\"Open In Colab\"/></a>"
      ]
    },
    {
      "cell_type": "markdown",
      "source": [
        "# **Tratamento de Dados**\n",
        "**Esse google colab contém o código feito em R para o tratamento de dados, listando o que foi feito por meio de comentários dos procedimentos realizados **"
      ],
      "metadata": {
        "id": "oj2Vii8VHpbv"
      }
    },
    {
      "cell_type": "markdown",
      "source": [
        "\n",
        "# Importação de pacotes\n",
        "\n",
        "Aqui foi feito a importação do pacote tidyverse que será essencial para futuras operações"
      ],
      "metadata": {
        "id": "b4ztUSSjIQcu"
      }
    },
    {
      "cell_type": "code",
      "execution_count": null,
      "metadata": {
        "colab": {
          "base_uri": "https://localhost:8080/"
        },
        "id": "KJG3VNpQSMtc",
        "outputId": "c0f73faa-9fd1-476a-8cea-9bb2f47709ce"
      },
      "outputs": [
        {
          "output_type": "stream",
          "name": "stderr",
          "text": [
            "Installing package into ‘/usr/local/lib/R/site-library’\n",
            "(as ‘lib’ is unspecified)\n",
            "\n",
            "── \u001b[1mAttaching core tidyverse packages\u001b[22m ──────────────────────── tidyverse 2.0.0 ──\n",
            "\u001b[32m✔\u001b[39m \u001b[34mdplyr    \u001b[39m 1.1.4     \u001b[32m✔\u001b[39m \u001b[34mreadr    \u001b[39m 2.1.5\n",
            "\u001b[32m✔\u001b[39m \u001b[34mforcats  \u001b[39m 1.0.0     \u001b[32m✔\u001b[39m \u001b[34mstringr  \u001b[39m 1.5.1\n",
            "\u001b[32m✔\u001b[39m \u001b[34mggplot2  \u001b[39m 3.5.2     \u001b[32m✔\u001b[39m \u001b[34mtibble   \u001b[39m 3.3.0\n",
            "\u001b[32m✔\u001b[39m \u001b[34mlubridate\u001b[39m 1.9.4     \u001b[32m✔\u001b[39m \u001b[34mtidyr    \u001b[39m 1.3.1\n",
            "\u001b[32m✔\u001b[39m \u001b[34mpurrr    \u001b[39m 1.1.0     \n",
            "── \u001b[1mConflicts\u001b[22m ────────────────────────────────────────── tidyverse_conflicts() ──\n",
            "\u001b[31m✖\u001b[39m \u001b[34mdplyr\u001b[39m::\u001b[32mfilter()\u001b[39m masks \u001b[34mstats\u001b[39m::filter()\n",
            "\u001b[31m✖\u001b[39m \u001b[34mdplyr\u001b[39m::\u001b[32mlag()\u001b[39m    masks \u001b[34mstats\u001b[39m::lag()\n",
            "\u001b[36mℹ\u001b[39m Use the conflicted package (\u001b[3m\u001b[34m<http://conflicted.r-lib.org/>\u001b[39m\u001b[23m) to force all conflicts to become errors\n"
          ]
        }
      ],
      "source": [
        "install.packages(\n",
        "  \"tidyverse\"  # dplyr, tidyr, readr, stringr, etc.\n",
        ")\n",
        "\n",
        "\n",
        "library(tidyverse)\n",
        "\n"
      ]
    },
    {
      "cell_type": "markdown",
      "source": [
        "# Planilha de Dados\n",
        "\n",
        "Pegamos o link do nosso dataset em formato csv e criamos um data_frame df que lê\n",
        "tal link"
      ],
      "metadata": {
        "id": "tWTyvXguZDB_"
      }
    },
    {
      "cell_type": "code",
      "source": [
        "csv_url <- \"https://docs.google.com/spreadsheets/d/1t1uBaxiFaByBsNtk9vaLxidQeaNp0P-w40G_sViKvyA/export?format=csv&gid=443957407\"\n",
        "\n",
        "df = read.csv(csv_url)\n",
        "\n"
      ],
      "metadata": {
        "id": "UZA0taKbEjlo"
      },
      "execution_count": null,
      "outputs": []
    },
    {
      "cell_type": "markdown",
      "source": [
        "# Tratamento da coluna \"Sexo\" do Dataframe\n",
        "\n",
        "Aqui padronizamos a coluna de maneira que só existam \"M\": Para Masculino e F para feminino. Além disso, caso exista algum valor vazio. Substituímos por N/A"
      ],
      "metadata": {
        "id": "qGgqr3CRKBHD"
      }
    },
    {
      "cell_type": "code",
      "source": [
        "#Substituir os valores Masculino por M e os valores Femininos por F.\n",
        "\n",
        "df$Sexo[df$Sexo == \"Masculino\"] <- \"M\"\n",
        "df$Sexo[df$Sexo == \"Feminino\"] <- \"F\"\n",
        "\n",
        "#Verificar se existem valores vazios, e substitui-los por N/A.\n",
        "\n",
        "if (any(is.na(df$Sexo) | df$Sexo == \"\")) {\n",
        "  df$Sexo[is.na(df$Sexo) | df$Sexo == \"\"] <- \"N/A\"\n",
        "}\n",
        "head(df$Sexo, 10)"
      ],
      "metadata": {
        "colab": {
          "base_uri": "https://localhost:8080/",
          "height": 34
        },
        "id": "QQsYJBFMVDBU",
        "outputId": "59c92078-bf4f-455b-b74c-d2bffc710c33"
      },
      "execution_count": null,
      "outputs": [
        {
          "output_type": "display_data",
          "data": {
            "text/html": [
              "<style>\n",
              ".list-inline {list-style: none; margin:0; padding: 0}\n",
              ".list-inline>li {display: inline-block}\n",
              ".list-inline>li:not(:last-child)::after {content: \"\\00b7\"; padding: 0 .5ex}\n",
              "</style>\n",
              "<ol class=list-inline><li>'F'</li><li>'M'</li><li>'F'</li><li>'M'</li><li>'M'</li><li>'F'</li><li>'M'</li><li>'M'</li><li>'M'</li><li>'F'</li></ol>\n"
            ],
            "text/markdown": "1. 'F'\n2. 'M'\n3. 'F'\n4. 'M'\n5. 'M'\n6. 'F'\n7. 'M'\n8. 'M'\n9. 'M'\n10. 'F'\n\n\n",
            "text/latex": "\\begin{enumerate*}\n\\item 'F'\n\\item 'M'\n\\item 'F'\n\\item 'M'\n\\item 'M'\n\\item 'F'\n\\item 'M'\n\\item 'M'\n\\item 'M'\n\\item 'F'\n\\end{enumerate*}\n",
            "text/plain": [
              " [1] \"F\" \"M\" \"F\" \"M\" \"M\" \"F\" \"M\" \"M\" \"M\" \"F\""
            ]
          },
          "metadata": {}
        }
      ]
    },
    {
      "cell_type": "markdown",
      "source": [
        "# Tratamento de Colunas Númericas"
      ],
      "metadata": {
        "id": "pmtv13ttZTOV"
      }
    },
    {
      "cell_type": "markdown",
      "source": [
        "Nesse caso, criamos uma função que itera sobre as colunas do nosso DataFrame, caso seja númerica, vamos arredonda em duas casas decimais."
      ],
      "metadata": {
        "id": "czRYop0Zaoul"
      }
    },
    {
      "cell_type": "code",
      "source": [
        "cols_num <- c(\"Peso_kg\",\n",
        "              \"Altura_cm\",\n",
        "              \"Horas_Sono\",\n",
        "              \"Pressao_Sistolica\",\n",
        "              \"Pressao_Diastolica\")\n",
        "\n",
        "df <- df %>%\n",
        "  # 1. Converte strings para número, trocando vírgula por ponto se existir\n",
        "  mutate(across(all_of(cols_num), ~ as.numeric(str_replace_all(.x, \",\", \".\")))) %>%\n",
        "\n",
        "  # 2. Arredonda só as colunas que pedem casas decimais\n",
        "  mutate(\n",
        "    across(c(Peso_kg, Altura_cm, Horas_Sono),  ~ round(.x, 2)),  # 2 casas\n",
        "    across(c(Pressao_Sistolica, Pressao_Diastolica), ~ round(.x)) # inteiros\n",
        "  )\n"
      ],
      "metadata": {
        "id": "My6CHND3a_TH",
        "colab": {
          "base_uri": "https://localhost:8080/"
        },
        "outputId": "d6f0085d-4e04-4cee-86bd-433ba754572f"
      },
      "execution_count": null,
      "outputs": [
        {
          "output_type": "stream",
          "name": "stderr",
          "text": [
            "Warning message:\n",
            "“\u001b[1m\u001b[22mThere was 1 warning in `mutate()`.\n",
            "\u001b[1m\u001b[22m\u001b[36mℹ\u001b[39m In argument: `across(...)`.\n",
            "Caused by warning:\n",
            "\u001b[33m!\u001b[39m NAs introduced by coercion”\n"
          ]
        }
      ]
    },
    {
      "cell_type": "markdown",
      "source": [
        "# Alteração da Coluna Histórico_Doença"
      ],
      "metadata": {
        "id": "oOHCG0fJmd7J"
      }
    },
    {
      "cell_type": "markdown",
      "source": [
        "Alterando a coluna Histórico_Doença para Sim ou Não."
      ],
      "metadata": {
        "id": "AZBFdTgf-Siv"
      }
    },
    {
      "cell_type": "code",
      "source": [
        "df$Historico_Doenca[df$Historico_Doenca == \"N\"] <- \"Não\"\n",
        "df$Historico_Doenca[df$Historico_Doenca == \"S\"] <- \"Sim\"\n",
        "\n",
        "df$Historico_Doenca[df$Historico_Doenca == \"nao\"] <- \"Não\"\n",
        "df$Historico_Doenca[df$Historico_Doenca == \"sim\"] <- \"Sim\"\n",
        "\n"
      ],
      "metadata": {
        "id": "2fKm2xjH-RuQ"
      },
      "execution_count": null,
      "outputs": []
    },
    {
      "cell_type": "markdown",
      "source": [
        "# Tratamento da Coluna de Consumo_Alcool_semanal_ml"
      ],
      "metadata": {
        "id": "I5CgxLUELYJA"
      }
    },
    {
      "cell_type": "markdown",
      "source": [
        "Agora, vamos tratar a coluna Consumo_Alcool_semanal_ml, por meio de conversão para númerico e remoção de valores fora da realidade"
      ],
      "metadata": {
        "id": "hSH3wRfTBtKt"
      }
    },
    {
      "cell_type": "code",
      "source": [
        "df$Consumo_Alcool_semanal_ml <- as.character(df$Consumo_Alcool_semanal_ml)\n",
        "\n",
        "# Criar nova coluna com os valores limpos\n",
        "df$Consumo_Alcool_semanal_ml_limpo <- sapply(df$Consumo_Alcool_semanal_ml, function(x) {\n",
        "  if (is.na(x)) return(NA_real_)\n",
        "\n",
        "  # Se tiver mais de um ponto, assume que são separadores de milhar (ex: 1.247.546)\n",
        "  if (str_count(x, \"\\\\.\") > 1) {\n",
        "    x_clean <- str_replace_all(x, \"\\\\.\", \"\")  # remove todos os pontos\n",
        "  } else {\n",
        "    x_clean <- x  # mantém ponto decimal válido\n",
        "  }\n",
        "\n",
        "  # Tenta converter para numérico\n",
        "  num <- suppressWarnings(as.numeric(x_clean))\n",
        "\n",
        "  # Se a conversão falhar ou for absurdamente alta, define como NA\n",
        "  if (is.na(num) || num > 5000) return(NA_real_)\n",
        "\n",
        "  return(num)\n",
        "})\n",
        "\n",
        "df$Consumo_Alcool_semanal_ml <- df$Consumo_Alcool_semanal_ml_limpo\n",
        "\n",
        "df$Consumo_Alcool_semanal_ml_limpo <- NULL\n"
      ],
      "metadata": {
        "id": "qDvVhJti-Q1g"
      },
      "execution_count": null,
      "outputs": []
    },
    {
      "cell_type": "markdown",
      "source": [
        "# Alteração de Coluna de Data_Exame"
      ],
      "metadata": {
        "id": "U1C6fQsdLpsA"
      }
    },
    {
      "cell_type": "markdown",
      "source": [
        "Agora, converendo a Data para o Padrão Brasileiro"
      ],
      "metadata": {
        "id": "sXXEE0xXwrRx"
      }
    },
    {
      "cell_type": "code",
      "source": [
        "df$Data_Exame <- as.Date(df$Data_Exame, format = \"%Y-%m-%d\")\n",
        "df$Data_Exame <- format(df$Data_Exame, \"%d/%m/%Y\")\n"
      ],
      "metadata": {
        "id": "Vs2SoUynIyv4"
      },
      "execution_count": null,
      "outputs": []
    },
    {
      "cell_type": "markdown",
      "source": [
        "# Tratamento de Valores N/A"
      ],
      "metadata": {
        "id": "2QbHljAAL2bH"
      }
    },
    {
      "cell_type": "markdown",
      "source": [
        "  Agora, vamos substituir todas as colunas numéricas com sua respectivas medianas e os valores NA de tabelas escritas como não informados.Fazemos isso, pela simplicade, eficiência, respeito à distribuição de Dados e por não ser afetada por valores extremos"
      ],
      "metadata": {
        "id": "et6pAgacrLV6"
      }
    },
    {
      "cell_type": "code",
      "source": [
        "library(dplyr)\n",
        "\n",
        "df <- df %>%\n",
        "  mutate(across(where(is.numeric), ~replace_na(., median(., na.rm = TRUE))))\n",
        "\n",
        "\n",
        "df <- df %>%\n",
        "  mutate(across(where(is.character), ~replace(., . == \"NA\", \"Não informado\")))\n",
        "\n",
        "df <- df %>%\n",
        "  mutate(across(where(is.character), ~replace_na(., \"Não informado\")))\n"
      ],
      "metadata": {
        "id": "SIUbbflBrf2x",
        "colab": {
          "base_uri": "https://localhost:8080/",
          "height": 763
        },
        "outputId": "d447620d-f6fe-42cb-8e3c-43f23c9f7a22"
      },
      "execution_count": null,
      "outputs": [
        {
          "output_type": "display_data",
          "data": {
            "text/html": [
              "<table class=\"dataframe\">\n",
              "<caption>A data.frame: 20 × 13</caption>\n",
              "<thead>\n",
              "\t<tr><th></th><th scope=col>ID_Paciente</th><th scope=col>Idade</th><th scope=col>Sexo</th><th scope=col>Peso_kg</th><th scope=col>Altura_cm</th><th scope=col>Fumante</th><th scope=col>Nivel_Atividade</th><th scope=col>Horas_Sono</th><th scope=col>Pressao_Sistolica</th><th scope=col>Pressao_Diastolica</th><th scope=col>Historico_Doenca</th><th scope=col>Consumo_Alcool_semanal_ml</th><th scope=col>Data_Exame</th></tr>\n",
              "\t<tr><th></th><th scope=col>&lt;int&gt;</th><th scope=col>&lt;int&gt;</th><th scope=col>&lt;chr&gt;</th><th scope=col>&lt;dbl&gt;</th><th scope=col>&lt;dbl&gt;</th><th scope=col>&lt;chr&gt;</th><th scope=col>&lt;chr&gt;</th><th scope=col>&lt;dbl&gt;</th><th scope=col>&lt;dbl&gt;</th><th scope=col>&lt;dbl&gt;</th><th scope=col>&lt;chr&gt;</th><th scope=col>&lt;dbl&gt;</th><th scope=col>&lt;chr&gt;</th></tr>\n",
              "</thead>\n",
              "<tbody>\n",
              "\t<tr><th scope=row>1</th><td> 1</td><td>45</td><td>F</td><td>74.07</td><td>172.26</td><td>Sim          </td><td>Sedentário</td><td>5.1</td><td>106</td><td> 78</td><td>Não          </td><td>134.93</td><td>05/04/2024</td></tr>\n",
              "\t<tr><th scope=row>2</th><td> 2</td><td>55</td><td>M</td><td>70.72</td><td>181.97</td><td>Não          </td><td>Baixo     </td><td>4.0</td><td>135</td><td> 76</td><td>Não          </td><td>440.33</td><td>22/04/2024</td></tr>\n",
              "\t<tr><th scope=row>3</th><td> 3</td><td>61</td><td>F</td><td>57.41</td><td>171.51</td><td>Não          </td><td>Alto      </td><td>4.3</td><td>112</td><td> 99</td><td>Sim          </td><td> 56.91</td><td>21/03/2024</td></tr>\n",
              "\t<tr><th scope=row>4</th><td> 4</td><td>43</td><td>M</td><td>75.72</td><td>191.34</td><td>Não          </td><td>Moderado  </td><td>9.2</td><td>133</td><td> 73</td><td>Sim          </td><td> 86.24</td><td>04/02/2024</td></tr>\n",
              "\t<tr><th scope=row>5</th><td> 5</td><td>60</td><td>M</td><td>53.16</td><td>171.56</td><td>Não          </td><td>Moderado  </td><td>6.7</td><td>134</td><td> 79</td><td>Não          </td><td>  5.32</td><td>25/10/2024</td></tr>\n",
              "\t<tr><th scope=row>6</th><td> 6</td><td>65</td><td>F</td><td>88.87</td><td>171.91</td><td>Sim          </td><td>Baixo     </td><td>5.0</td><td>110</td><td> 95</td><td>Não Informado</td><td>101.58</td><td>11/02/2023</td></tr>\n",
              "\t<tr><th scope=row>7</th><td> 7</td><td>46</td><td>M</td><td>73.19</td><td>147.00</td><td>Não          </td><td>Baixo     </td><td>7.0</td><td>120</td><td> 90</td><td>Não          </td><td>492.17</td><td>24/09/2024</td></tr>\n",
              "\t<tr><th scope=row>8</th><td> 8</td><td>64</td><td>M</td><td>69.40</td><td>171.13</td><td>Não          </td><td>Moderado  </td><td>9.6</td><td>116</td><td> 81</td><td>Não          </td><td>  6.90</td><td>18/06/2024</td></tr>\n",
              "\t<tr><th scope=row>9</th><td> 9</td><td>33</td><td>M</td><td>46.34</td><td>157.85</td><td>Não          </td><td>Baixo     </td><td>7.5</td><td>111</td><td> 72</td><td>Não          </td><td> 56.34</td><td>05/05/2023</td></tr>\n",
              "\t<tr><th scope=row>10</th><td>10</td><td>76</td><td>F</td><td>45.34</td><td>171.61</td><td>Não          </td><td>Baixo     </td><td>8.3</td><td>117</td><td> 72</td><td>Não          </td><td> 10.45</td><td>01/12/2023</td></tr>\n",
              "\t<tr><th scope=row>11</th><td>11</td><td>70</td><td>F</td><td>66.82</td><td>153.01</td><td>Não          </td><td>Baixo     </td><td>5.9</td><td>122</td><td> 66</td><td>Não          </td><td>119.93</td><td>15/05/2024</td></tr>\n",
              "\t<tr><th scope=row>12</th><td>12</td><td>63</td><td>M</td><td>62.01</td><td>167.11</td><td>Não informado</td><td>Alto      </td><td>6.6</td><td>116</td><td> 80</td><td>Não          </td><td> 67.18</td><td>28/04/2023</td></tr>\n",
              "\t<tr><th scope=row>13</th><td>13</td><td>78</td><td>M</td><td>69.19</td><td>157.16</td><td>Não          </td><td>Moderado  </td><td>6.0</td><td>105</td><td> 68</td><td>Não          </td><td>144.89</td><td>28/03/2023</td></tr>\n",
              "\t<tr><th scope=row>14</th><td>14</td><td>63</td><td>F</td><td>61.43</td><td>180.32</td><td>Sim          </td><td>Baixo     </td><td>6.1</td><td>115</td><td> 80</td><td>Não          </td><td> 37.87</td><td>05/05/2024</td></tr>\n",
              "\t<tr><th scope=row>15</th><td>15</td><td>55</td><td>F</td><td>94.65</td><td>169.98</td><td>Sim          </td><td>Alto      </td><td>7.0</td><td>116</td><td> 95</td><td>Não          </td><td>  0.80</td><td>13/12/2024</td></tr>\n",
              "\t<tr><th scope=row>16</th><td>16</td><td>46</td><td>M</td><td>77.85</td><td>156.58</td><td>Não          </td><td>Baixo     </td><td>7.6</td><td>102</td><td> 82</td><td>Sim          </td><td> 33.16</td><td>23/04/2024</td></tr>\n",
              "\t<tr><th scope=row>17</th><td>17</td><td>57</td><td>M</td><td>84.03</td><td>155.43</td><td>Não          </td><td>Alto      </td><td>6.0</td><td>133</td><td>108</td><td>Não Informado</td><td> 13.87</td><td>13/02/2023</td></tr>\n",
              "\t<tr><th scope=row>18</th><td>18</td><td>35</td><td>M</td><td>72.12</td><td>147.96</td><td>Não          </td><td>Moderado  </td><td>6.7</td><td>121</td><td> 76</td><td>Sim          </td><td> 48.53</td><td>27/09/2023</td></tr>\n",
              "\t<tr><th scope=row>19</th><td>19</td><td>29</td><td>M</td><td>82.46</td><td>164.30</td><td>Não          </td><td>Alto      </td><td>9.2</td><td>124</td><td> 72</td><td>Não          </td><td> 16.45</td><td>05/06/2023</td></tr>\n",
              "\t<tr><th scope=row>20</th><td>20</td><td>58</td><td>F</td><td>57.65</td><td>180.50</td><td>Não          </td><td>Moderado  </td><td>8.2</td><td>126</td><td> 88</td><td>Não          </td><td> 53.57</td><td>10/05/2023</td></tr>\n",
              "</tbody>\n",
              "</table>\n"
            ],
            "text/markdown": "\nA data.frame: 20 × 13\n\n| <!--/--> | ID_Paciente &lt;int&gt; | Idade &lt;int&gt; | Sexo &lt;chr&gt; | Peso_kg &lt;dbl&gt; | Altura_cm &lt;dbl&gt; | Fumante &lt;chr&gt; | Nivel_Atividade &lt;chr&gt; | Horas_Sono &lt;dbl&gt; | Pressao_Sistolica &lt;dbl&gt; | Pressao_Diastolica &lt;dbl&gt; | Historico_Doenca &lt;chr&gt; | Consumo_Alcool_semanal_ml &lt;dbl&gt; | Data_Exame &lt;chr&gt; |\n|---|---|---|---|---|---|---|---|---|---|---|---|---|---|\n| 1 |  1 | 45 | F | 74.07 | 172.26 | Sim           | Sedentário | 5.1 | 106 |  78 | Não           | 134.93 | 05/04/2024 |\n| 2 |  2 | 55 | M | 70.72 | 181.97 | Não           | Baixo      | 4.0 | 135 |  76 | Não           | 440.33 | 22/04/2024 |\n| 3 |  3 | 61 | F | 57.41 | 171.51 | Não           | Alto       | 4.3 | 112 |  99 | Sim           |  56.91 | 21/03/2024 |\n| 4 |  4 | 43 | M | 75.72 | 191.34 | Não           | Moderado   | 9.2 | 133 |  73 | Sim           |  86.24 | 04/02/2024 |\n| 5 |  5 | 60 | M | 53.16 | 171.56 | Não           | Moderado   | 6.7 | 134 |  79 | Não           |   5.32 | 25/10/2024 |\n| 6 |  6 | 65 | F | 88.87 | 171.91 | Sim           | Baixo      | 5.0 | 110 |  95 | Não Informado | 101.58 | 11/02/2023 |\n| 7 |  7 | 46 | M | 73.19 | 147.00 | Não           | Baixo      | 7.0 | 120 |  90 | Não           | 492.17 | 24/09/2024 |\n| 8 |  8 | 64 | M | 69.40 | 171.13 | Não           | Moderado   | 9.6 | 116 |  81 | Não           |   6.90 | 18/06/2024 |\n| 9 |  9 | 33 | M | 46.34 | 157.85 | Não           | Baixo      | 7.5 | 111 |  72 | Não           |  56.34 | 05/05/2023 |\n| 10 | 10 | 76 | F | 45.34 | 171.61 | Não           | Baixo      | 8.3 | 117 |  72 | Não           |  10.45 | 01/12/2023 |\n| 11 | 11 | 70 | F | 66.82 | 153.01 | Não           | Baixo      | 5.9 | 122 |  66 | Não           | 119.93 | 15/05/2024 |\n| 12 | 12 | 63 | M | 62.01 | 167.11 | Não informado | Alto       | 6.6 | 116 |  80 | Não           |  67.18 | 28/04/2023 |\n| 13 | 13 | 78 | M | 69.19 | 157.16 | Não           | Moderado   | 6.0 | 105 |  68 | Não           | 144.89 | 28/03/2023 |\n| 14 | 14 | 63 | F | 61.43 | 180.32 | Sim           | Baixo      | 6.1 | 115 |  80 | Não           |  37.87 | 05/05/2024 |\n| 15 | 15 | 55 | F | 94.65 | 169.98 | Sim           | Alto       | 7.0 | 116 |  95 | Não           |   0.80 | 13/12/2024 |\n| 16 | 16 | 46 | M | 77.85 | 156.58 | Não           | Baixo      | 7.6 | 102 |  82 | Sim           |  33.16 | 23/04/2024 |\n| 17 | 17 | 57 | M | 84.03 | 155.43 | Não           | Alto       | 6.0 | 133 | 108 | Não Informado |  13.87 | 13/02/2023 |\n| 18 | 18 | 35 | M | 72.12 | 147.96 | Não           | Moderado   | 6.7 | 121 |  76 | Sim           |  48.53 | 27/09/2023 |\n| 19 | 19 | 29 | M | 82.46 | 164.30 | Não           | Alto       | 9.2 | 124 |  72 | Não           |  16.45 | 05/06/2023 |\n| 20 | 20 | 58 | F | 57.65 | 180.50 | Não           | Moderado   | 8.2 | 126 |  88 | Não           |  53.57 | 10/05/2023 |\n\n",
            "text/latex": "A data.frame: 20 × 13\n\\begin{tabular}{r|lllllllllllll}\n  & ID\\_Paciente & Idade & Sexo & Peso\\_kg & Altura\\_cm & Fumante & Nivel\\_Atividade & Horas\\_Sono & Pressao\\_Sistolica & Pressao\\_Diastolica & Historico\\_Doenca & Consumo\\_Alcool\\_semanal\\_ml & Data\\_Exame\\\\\n  & <int> & <int> & <chr> & <dbl> & <dbl> & <chr> & <chr> & <dbl> & <dbl> & <dbl> & <chr> & <dbl> & <chr>\\\\\n\\hline\n\t1 &  1 & 45 & F & 74.07 & 172.26 & Sim           & Sedentário & 5.1 & 106 &  78 & Não           & 134.93 & 05/04/2024\\\\\n\t2 &  2 & 55 & M & 70.72 & 181.97 & Não           & Baixo      & 4.0 & 135 &  76 & Não           & 440.33 & 22/04/2024\\\\\n\t3 &  3 & 61 & F & 57.41 & 171.51 & Não           & Alto       & 4.3 & 112 &  99 & Sim           &  56.91 & 21/03/2024\\\\\n\t4 &  4 & 43 & M & 75.72 & 191.34 & Não           & Moderado   & 9.2 & 133 &  73 & Sim           &  86.24 & 04/02/2024\\\\\n\t5 &  5 & 60 & M & 53.16 & 171.56 & Não           & Moderado   & 6.7 & 134 &  79 & Não           &   5.32 & 25/10/2024\\\\\n\t6 &  6 & 65 & F & 88.87 & 171.91 & Sim           & Baixo      & 5.0 & 110 &  95 & Não Informado & 101.58 & 11/02/2023\\\\\n\t7 &  7 & 46 & M & 73.19 & 147.00 & Não           & Baixo      & 7.0 & 120 &  90 & Não           & 492.17 & 24/09/2024\\\\\n\t8 &  8 & 64 & M & 69.40 & 171.13 & Não           & Moderado   & 9.6 & 116 &  81 & Não           &   6.90 & 18/06/2024\\\\\n\t9 &  9 & 33 & M & 46.34 & 157.85 & Não           & Baixo      & 7.5 & 111 &  72 & Não           &  56.34 & 05/05/2023\\\\\n\t10 & 10 & 76 & F & 45.34 & 171.61 & Não           & Baixo      & 8.3 & 117 &  72 & Não           &  10.45 & 01/12/2023\\\\\n\t11 & 11 & 70 & F & 66.82 & 153.01 & Não           & Baixo      & 5.9 & 122 &  66 & Não           & 119.93 & 15/05/2024\\\\\n\t12 & 12 & 63 & M & 62.01 & 167.11 & Não informado & Alto       & 6.6 & 116 &  80 & Não           &  67.18 & 28/04/2023\\\\\n\t13 & 13 & 78 & M & 69.19 & 157.16 & Não           & Moderado   & 6.0 & 105 &  68 & Não           & 144.89 & 28/03/2023\\\\\n\t14 & 14 & 63 & F & 61.43 & 180.32 & Sim           & Baixo      & 6.1 & 115 &  80 & Não           &  37.87 & 05/05/2024\\\\\n\t15 & 15 & 55 & F & 94.65 & 169.98 & Sim           & Alto       & 7.0 & 116 &  95 & Não           &   0.80 & 13/12/2024\\\\\n\t16 & 16 & 46 & M & 77.85 & 156.58 & Não           & Baixo      & 7.6 & 102 &  82 & Sim           &  33.16 & 23/04/2024\\\\\n\t17 & 17 & 57 & M & 84.03 & 155.43 & Não           & Alto       & 6.0 & 133 & 108 & Não Informado &  13.87 & 13/02/2023\\\\\n\t18 & 18 & 35 & M & 72.12 & 147.96 & Não           & Moderado   & 6.7 & 121 &  76 & Sim           &  48.53 & 27/09/2023\\\\\n\t19 & 19 & 29 & M & 82.46 & 164.30 & Não           & Alto       & 9.2 & 124 &  72 & Não           &  16.45 & 05/06/2023\\\\\n\t20 & 20 & 58 & F & 57.65 & 180.50 & Não           & Moderado   & 8.2 & 126 &  88 & Não           &  53.57 & 10/05/2023\\\\\n\\end{tabular}\n",
            "text/plain": [
              "   ID_Paciente Idade Sexo Peso_kg Altura_cm Fumante       Nivel_Atividade\n",
              "1   1          45    F    74.07   172.26    Sim           Sedentário     \n",
              "2   2          55    M    70.72   181.97    Não           Baixo          \n",
              "3   3          61    F    57.41   171.51    Não           Alto           \n",
              "4   4          43    M    75.72   191.34    Não           Moderado       \n",
              "5   5          60    M    53.16   171.56    Não           Moderado       \n",
              "6   6          65    F    88.87   171.91    Sim           Baixo          \n",
              "7   7          46    M    73.19   147.00    Não           Baixo          \n",
              "8   8          64    M    69.40   171.13    Não           Moderado       \n",
              "9   9          33    M    46.34   157.85    Não           Baixo          \n",
              "10 10          76    F    45.34   171.61    Não           Baixo          \n",
              "11 11          70    F    66.82   153.01    Não           Baixo          \n",
              "12 12          63    M    62.01   167.11    Não informado Alto           \n",
              "13 13          78    M    69.19   157.16    Não           Moderado       \n",
              "14 14          63    F    61.43   180.32    Sim           Baixo          \n",
              "15 15          55    F    94.65   169.98    Sim           Alto           \n",
              "16 16          46    M    77.85   156.58    Não           Baixo          \n",
              "17 17          57    M    84.03   155.43    Não           Alto           \n",
              "18 18          35    M    72.12   147.96    Não           Moderado       \n",
              "19 19          29    M    82.46   164.30    Não           Alto           \n",
              "20 20          58    F    57.65   180.50    Não           Moderado       \n",
              "   Horas_Sono Pressao_Sistolica Pressao_Diastolica Historico_Doenca\n",
              "1  5.1        106                78                Não             \n",
              "2  4.0        135                76                Não             \n",
              "3  4.3        112                99                Sim             \n",
              "4  9.2        133                73                Sim             \n",
              "5  6.7        134                79                Não             \n",
              "6  5.0        110                95                Não Informado   \n",
              "7  7.0        120                90                Não             \n",
              "8  9.6        116                81                Não             \n",
              "9  7.5        111                72                Não             \n",
              "10 8.3        117                72                Não             \n",
              "11 5.9        122                66                Não             \n",
              "12 6.6        116                80                Não             \n",
              "13 6.0        105                68                Não             \n",
              "14 6.1        115                80                Não             \n",
              "15 7.0        116                95                Não             \n",
              "16 7.6        102                82                Sim             \n",
              "17 6.0        133               108                Não Informado   \n",
              "18 6.7        121                76                Sim             \n",
              "19 9.2        124                72                Não             \n",
              "20 8.2        126                88                Não             \n",
              "   Consumo_Alcool_semanal_ml Data_Exame\n",
              "1  134.93                    05/04/2024\n",
              "2  440.33                    22/04/2024\n",
              "3   56.91                    21/03/2024\n",
              "4   86.24                    04/02/2024\n",
              "5    5.32                    25/10/2024\n",
              "6  101.58                    11/02/2023\n",
              "7  492.17                    24/09/2024\n",
              "8    6.90                    18/06/2024\n",
              "9   56.34                    05/05/2023\n",
              "10  10.45                    01/12/2023\n",
              "11 119.93                    15/05/2024\n",
              "12  67.18                    28/04/2023\n",
              "13 144.89                    28/03/2023\n",
              "14  37.87                    05/05/2024\n",
              "15   0.80                    13/12/2024\n",
              "16  33.16                    23/04/2024\n",
              "17  13.87                    13/02/2023\n",
              "18  48.53                    27/09/2023\n",
              "19  16.45                    05/06/2023\n",
              "20  53.57                    10/05/2023"
            ]
          },
          "metadata": {}
        }
      ]
    },
    {
      "cell_type": "code",
      "source": [
        "\n"
      ],
      "metadata": {
        "id": "S1Z1xHWizEAw"
      },
      "execution_count": null,
      "outputs": []
    },
    {
      "cell_type": "markdown",
      "source": [
        "# Criando a pasta e o arquivo"
      ],
      "metadata": {
        "id": "KSHqSOyMMOGf"
      }
    },
    {
      "cell_type": "code",
      "source": [
        "# cria uma subpasta, se não existir\n",
        "dir.create(\"/content/saida\", showWarnings = FALSE, recursive = TRUE)\n",
        "\n",
        "# salva o dataframe na nova pasta\n",
        "caminho <- \"/content/saida/dados_tratados.csv\"\n",
        "readr::write_csv(df, caminho)\n",
        "\n",
        "message(\"Arquivo salvo em: \", caminho)"
      ],
      "metadata": {
        "colab": {
          "base_uri": "https://localhost:8080/"
        },
        "id": "H_QhPbbsLUVo",
        "outputId": "b7b56175-12b5-4c79-e818-61b6912da76d"
      },
      "execution_count": null,
      "outputs": [
        {
          "output_type": "stream",
          "name": "stderr",
          "text": [
            "Arquivo salvo em: /content/saida/dados_tratados.csv\n",
            "\n"
          ]
        }
      ]
    }
  ]
}